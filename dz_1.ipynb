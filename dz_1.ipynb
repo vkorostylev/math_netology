{
 "cells": [
  {
   "cell_type": "markdown",
   "metadata": {
    "colab_type": "text",
    "id": "view-in-github"
   },
   "source": [
    "<a href=\"https://colab.research.google.com/github/yustinaivanova/math_netology/blob/master/dz_1.ipynb\" target=\"_parent\"><img src=\"https://colab.research.google.com/assets/colab-badge.svg\" alt=\"Open In Colab\"/></a>"
   ]
  },
  {
   "cell_type": "markdown",
   "metadata": {
    "colab_type": "text",
    "id": "hTHl3kyDWIGO"
   },
   "source": [
    "# Математики для data science.\n",
    "# Домашнее задание 1."
   ]
  },
  {
   "cell_type": "markdown",
   "metadata": {
    "colab_type": "text",
    "id": "OAJG6826Pnft"
   },
   "source": [
    "**Задание на отображение множеств.**"
   ]
  },
  {
   "cell_type": "code",
   "execution_count": 25,
   "metadata": {},
   "outputs": [],
   "source": [
    "import numpy as np\n",
    "import matplotlib.pyplot as plt\n",
    "%matplotlib inline\n"
   ]
  },
  {
   "cell_type": "markdown",
   "metadata": {
    "colab_type": "text",
    "id": "lHtJSvE3Pt9i"
   },
   "source": [
    "**Задание 1.**"
   ]
  },
  {
   "cell_type": "markdown",
   "metadata": {
    "colab_type": "text",
    "id": "pRTF1ROCPxoR"
   },
   "source": [
    "Написать функцию отображения элементов одного множества в другое. Первое множество - художники, второе множество - картины художников.\n",
    "Множество художников - Серов, Левитан, Репин, Васнецов, Шишкин. \n",
    "Множество картин - \"Утро в сосновом бору\", \"Богатыри\", \"Золотая осень\", \"Девочка с персиками\", \"Запорожцы\", \"Буралки на Волге\", \"Март\", \"Алёнушка\". \n"
   ]
  },
  {
   "cell_type": "code",
   "execution_count": 11,
   "metadata": {},
   "outputs": [],
   "source": [
    "dict_actors = dict()\n",
    "dict_actors['Серов'] = ['Девочка с персиками']\n",
    "dict_actors['Левитан'] = ['Золотая осень','Март']\n",
    "dict_actors['Репин'] = ['Бригада','Запорожцы','Буралки на Волге']\n",
    "dict_actors['Васнецов'] = ['Богатыри','Алёнушка']\n",
    "dict_actors['Шишкин'] = ['Утро в сосновом бору']"
   ]
  },
  {
   "cell_type": "code",
   "execution_count": 12,
   "metadata": {},
   "outputs": [],
   "source": [
    "actors=['Серов','Левитан', 'Репин', 'Васнецов', 'Шишкин']"
   ]
  },
  {
   "cell_type": "code",
   "execution_count": 13,
   "metadata": {},
   "outputs": [
    {
     "name": "stdout",
     "output_type": "stream",
     "text": [
      "Серов: Девочка с персиками, \n",
      "Левитан: Золотая осень, Март, \n",
      "Репин: Бригада, Запорожцы, Буралки на Волге, \n",
      "Васнецов: Богатыри, Алёнушка, \n",
      "Шишкин: Утро в сосновом бору, \n"
     ]
    }
   ],
   "source": [
    "for el in actors:\n",
    "  films = ''\n",
    "  for film in dict_actors[el]:\n",
    "    films += film + ', '\n",
    "  print(el + ': '+ films)"
   ]
  },
  {
   "cell_type": "markdown",
   "metadata": {
    "colab_type": "text",
    "id": "4QwS5m7CWXY3"
   },
   "source": [
    "**Полиномиальные функции.**"
   ]
  },
  {
   "cell_type": "markdown",
   "metadata": {
    "colab_type": "text",
    "id": "thQjcSL7WbIY"
   },
   "source": [
    "**Задание 2**. Найти из следующих функций те, которые являются полиномиальной функцией."
   ]
  },
  {
   "cell_type": "markdown",
   "metadata": {
    "colab_type": "text",
    "id": "GbDQjj-pWjqm"
   },
   "source": [
    "*  1.$$f(x)=\\frac{1}{2}x^{6}-1\\frac{5}{6}x+\\frac{1}{3}$$\n",
    "*  2.$$f(x)=\\frac{3x^{6}-11x+2}{6}$$\n",
    "*  3.$$f(x)=\\frac{3x^{6}-11x+2}{6x}$$\n",
    "*  4.$$f(x)=x^{5}-3x^{2}+7x^{-2}$$\n",
    "*  5.$$f(x)=(5x^{2}-2)^3-\\frac{1}{2}x^{3}$$\n",
    "*  6.$$f(x)=(1+\\sqrt{x})^{3}-5(1+\\sqrt{x})$$\n",
    "*  7.$$f(x)=\\pi $$\n",
    "\n"
   ]
  },
  {
   "cell_type": "markdown",
   "metadata": {},
   "source": [
    "Ответ: 1,2,5,7"
   ]
  },
  {
   "cell_type": "markdown",
   "metadata": {
    "colab_type": "text",
    "id": "2SOZDLZQW9vK"
   },
   "source": [
    "**Задание 3**. Раскрыть скобки для следующего полинома $$(2x+1)^{2}(x-1)-x(4x^{2}-1)-x(4x^{2}-1)=ax^3+bx^2+cx+d$$ найти коэффициенты для a, b, c, d."
   ]
  },
  {
   "cell_type": "markdown",
   "metadata": {},
   "source": [
    "$$- 4 x^3- x -1 $$"
   ]
  },
  {
   "cell_type": "markdown",
   "metadata": {
    "colab_type": "text",
    "id": "FW0p4xjzIdRZ"
   },
   "source": [
    "Для данного задания полезно использовать следующие формулы сокращенного умножения:\n",
    "![alt text](https://sun9-38.userapi.com/c851232/v851232044/19c5b0/7Yy6qz-MUHA.jpg)"
   ]
  },
  {
   "cell_type": "markdown",
   "metadata": {
    "colab_type": "text",
    "id": "hETFA0bzXYdw"
   },
   "source": [
    "Чему равна степень полинома?"
   ]
  },
  {
   "cell_type": "markdown",
   "metadata": {},
   "source": [
    "Ответ: 3"
   ]
  },
  {
   "cell_type": "markdown",
   "metadata": {
    "colab_type": "text",
    "id": "EH8FFbsvt64f"
   },
   "source": [
    "Нарисовать график для полинома."
   ]
  },
  {
   "cell_type": "code",
   "execution_count": 26,
   "metadata": {
    "colab": {},
    "colab_type": "code",
    "id": "wk89rocGSoYC"
   },
   "outputs": [
    {
     "data": {
      "image/png": "[encoded data removed]",
      "text/plain": [
       "<Figure size 432x288 with 1 Axes>"
      ]
     },
     "metadata": {
      "needs_background": "light"
     },
     "output_type": "display_data"
    }
   ],
   "source": [
    "def func1(x):\n",
    "    return (-4*x**3-x-1)\n",
    "  \n",
    "# создаем вектор x\n",
    "x1 = np.linspace(-3.0, 3.0, 100)\n",
    "# на основе вектора x строим значения для вектора y\n",
    "y1 = [func1(x1[i]) for i in range(len(x1))]\n",
    "\n",
    "plt.plot(x1, y1)\n",
    "plt.title('График функции')\n",
    "plt.ylabel('y')\n",
    "plt.xlabel('x')\n",
    "\n",
    "plt.show()"
   ]
  },
  {
   "cell_type": "markdown",
   "metadata": {
    "colab_type": "text",
    "id": "YnGld7mvZNUB"
   },
   "source": [
    "**Задание 3**.\n",
    "Для заданных функций найти подходящий график (не все функции имеют график):\n",
    "$\\frac{3}{4}x-1$,\n",
    "$\\frac{3}{4}x+2$, \n",
    "$2-2x$, \n",
    "$2+2x$, \n",
    "$\\frac{1}{4}(x+1)^{2}-2 $,\n",
    "$\\frac{1}{4}(x-1)^2-2$, \n",
    "$(x-1)(x-3)$,\n",
    "$(x+1)(x+3)$, \n",
    "$2-x^2$, \n",
    "$2-\\frac{1}{4}x^2$"
   ]
  },
  {
   "cell_type": "markdown",
   "metadata": {},
   "source": [
    "$\\frac{3}{4}x-1$ 5ый график\n"
   ]
  },
  {
   "cell_type": "markdown",
   "metadata": {},
   "source": [
    "$\\frac{3}{4}x+2$ не нашел\n"
   ]
  },
  {
   "cell_type": "markdown",
   "metadata": {},
   "source": [
    "$2-2x$ 1ый график"
   ]
  },
  {
   "cell_type": "markdown",
   "metadata": {},
   "source": [
    "$2+2x$ такого нет"
   ]
  },
  {
   "cell_type": "markdown",
   "metadata": {},
   "source": [
    "$\\frac{1}{4}(x+1)^{2}-2 $ 4ый график"
   ]
  },
  {
   "cell_type": "markdown",
   "metadata": {},
   "source": [
    "$\\frac{1}{4}(x-1)^2-2$ нет"
   ]
  },
  {
   "cell_type": "markdown",
   "metadata": {},
   "source": [
    "$(x-1)(x-3)$ 6ой график"
   ]
  },
  {
   "cell_type": "markdown",
   "metadata": {},
   "source": [
    "$(x+1)(x+3)$ -нет"
   ]
  },
  {
   "cell_type": "markdown",
   "metadata": {},
   "source": [
    "$2-x^2$ - 3ий"
   ]
  },
  {
   "cell_type": "markdown",
   "metadata": {},
   "source": [
    "$2-\\frac{1}{4}x^2$ - 2ой график"
   ]
  },
  {
   "cell_type": "markdown",
   "metadata": {
    "colab_type": "text",
    "id": "8TCnR4urZX_A"
   },
   "source": [
    "![alt text](https://pp.userapi.com/c855532/v855532908/aadd4/uWjIZGDfw0s.jpg)"
   ]
  },
  {
   "cell_type": "markdown",
   "metadata": {
    "colab_type": "text",
    "id": "v4PsJSrlbGni"
   },
   "source": [
    "**Задание 4.** Найти минимальную степень следующего полинома:\n",
    "\n",
    "![alt text](https://pp.userapi.com/c855532/v855532908/aadcd/PZdPYTQT02A.jpg)"
   ]
  },
  {
   "cell_type": "code",
   "execution_count": 31,
   "metadata": {},
   "outputs": [],
   "source": [
    "Ответ: 5"
   ]
  },
  {
   "cell_type": "markdown",
   "metadata": {
    "colab_type": "text",
    "id": "In-LISkBGJ1u"
   },
   "source": [
    "**Задания повышенного уровня**"
   ]
  },
  {
   "cell_type": "markdown",
   "metadata": {
    "colab_type": "text",
    "id": "FGmhJtvceZO6"
   },
   "source": [
    "Почему следующие функции не являются полиномиальными?\n",
    "$$y=5x^{-2}+1$$\n",
    "$$y=3x^{1/2}+2$$\n",
    "$$y=(5x+1)/(3x)$$"
   ]
  },
  {
   "cell_type": "markdown",
   "metadata": {},
   "source": [
    "1ая - степень не натуральная\n",
    "2ая - степень не натуральная\n",
    "3ая - степень -1 - не натуральная "
   ]
  },
  {
   "cell_type": "markdown",
   "metadata": {
    "colab_type": "text",
    "id": "XyzbTtgEezLl"
   },
   "source": [
    "Найдите наибольшее и наименьшее значение функции $y = x^3 + 2x^2 + x + 3 $ на отрезке [-4;-1]. "
   ]
  },
  {
   "cell_type": "code",
   "execution_count": 42,
   "metadata": {},
   "outputs": [
    {
     "data": {
      "image/png": "[encoded data removed]",
      "text/plain": [
       "<Figure size 432x288 with 1 Axes>"
      ]
     },
     "metadata": {
      "needs_background": "light"
     },
     "output_type": "display_data"
    }
   ],
   "source": [
    "def func1(x):\n",
    "    return (x**3+2*x**2+x+3)\n",
    "  \n",
    "# создаем вектор x\n",
    "x1 = np.linspace(-4.0, -1.0, 100)\n",
    "# на основе вектора x строим значения для вектора y\n",
    "y1 = [func1(x1[i]) for i in range(len(x1))]\n",
    "\n",
    "plt.plot(x1, y1)\n",
    "plt.title('График функции')\n",
    "plt.ylabel('y')\n",
    "plt.xlabel('x')\n",
    "\n",
    "plt.show()"
   ]
  },
  {
   "cell_type": "code",
   "execution_count": 43,
   "metadata": {},
   "outputs": [],
   "source": [
    "x = np.linspace(-4.0, -1.0, 100)"
   ]
  },
  {
   "cell_type": "code",
   "execution_count": 47,
   "metadata": {},
   "outputs": [],
   "source": [
    "y = [x[i]**3+2*x[i]**2+x[i]+3 for i in range(len(x))]"
   ]
  },
  {
   "cell_type": "code",
   "execution_count": 52,
   "metadata": {},
   "outputs": [],
   "source": [
    "min_y = min(y)"
   ]
  },
  {
   "cell_type": "code",
   "execution_count": 54,
   "metadata": {},
   "outputs": [],
   "source": [
    "max_y = max(y)"
   ]
  },
  {
   "cell_type": "code",
   "execution_count": 53,
   "metadata": {},
   "outputs": [
    {
     "data": {
      "text/plain": [
       "-33.0"
      ]
     },
     "execution_count": 53,
     "metadata": {},
     "output_type": "execute_result"
    }
   ],
   "source": [
    "min_y"
   ]
  },
  {
   "cell_type": "code",
   "execution_count": 55,
   "metadata": {},
   "outputs": [
    {
     "data": {
      "text/plain": [
       "3.0"
      ]
     },
     "execution_count": 55,
     "metadata": {},
     "output_type": "execute_result"
    }
   ],
   "source": [
    "max_y"
   ]
  },
  {
   "cell_type": "markdown",
   "metadata": {
    "colab_type": "text",
    "id": "zZwKoyIwf4SV"
   },
   "source": [
    "Пример линейной регрессии - это применение полиномов на практике. В следующем примере дан датасет x, y, сгенерированный рандомно. Мы можем использовать линейную регрессию, чтобы предсказать значение переменной y от x. "
   ]
  },
  {
   "cell_type": "code",
   "execution_count": 56,
   "metadata": {
    "colab": {
     "base_uri": "https://localhost:8080/",
     "height": 269
    },
    "colab_type": "code",
    "id": "wyWYYrGnWHVk",
    "outputId": "85df8263-3022-4a15-8a64-204ec3ec56a6"
   },
   "outputs": [
    {
     "data": {
      "image/png": "[encoded data removed]",
      "text/plain": [
       "<Figure size 432x288 with 1 Axes>"
      ]
     },
     "metadata": {
      "needs_background": "light"
     },
     "output_type": "display_data"
    }
   ],
   "source": [
    "import numpy as np\n",
    "import matplotlib.pyplot as plt\n",
    "\n",
    "from sklearn.linear_model import LinearRegression\n",
    "\n",
    "np.random.seed(0)\n",
    "x = 2 - 3 * np.random.normal(0, 1, 20)\n",
    "y = x - 2 * (x ** 2) + 0.5 * (x ** 3) + np.random.normal(-3, 3, 20)\n",
    "\n",
    "# transforming the data to include another axis\n",
    "x = x[:, np.newaxis]\n",
    "y = y[:, np.newaxis]\n",
    "\n",
    "model = LinearRegression()\n",
    "model.fit(x, y)\n",
    "y_pred = model.predict(x)\n",
    "\n",
    "plt.scatter(x, y, s=10)\n",
    "plt.plot(x, y_pred, color='r')\n",
    "plt.show()"
   ]
  },
  {
   "cell_type": "markdown",
   "metadata": {
    "colab_type": "text",
    "id": "_jdDSF1KhGCA"
   },
   "source": [
    "В данном примере найден полином первой степени. Как можно улучшить данную модель? Написать пример. "
   ]
  },
  {
   "cell_type": "code",
   "execution_count": 59,
   "metadata": {},
   "outputs": [],
   "source": [
    "from sklearn.preprocessing import PolynomialFeatures \n",
    "\n",
    "poly = PolynomialFeatures(degree = 3) \n",
    "X_poly = poly.fit_transform(x) \n",
    "  \n",
    "poly.fit(X_poly, y) \n",
    "lin2 = LinearRegression()\n",
    "model = lin2.fit(X_poly, y) \n"
   ]
  },
  {
   "cell_type": "code",
   "execution_count": 61,
   "metadata": {},
   "outputs": [
    {
     "data": {
      "image/png": "[encoded data removed]",
      "text/plain": [
       "<Figure size 432x288 with 1 Axes>"
      ]
     },
     "metadata": {
      "needs_background": "light"
     },
     "output_type": "display_data"
    }
   ],
   "source": [
    "y_pred = model.predict(poly.fit_transform(x))\n",
    "plt.scatter(x, y, marker='o')\n",
    "plt.scatter(x, y_pred, marker='x')\n",
    "plt.title('LSTAT')\n",
    "plt.xlabel('LSTAT')\n",
    "plt.ylabel('MEDV')\n",
    "plt.legend(['исходные данные', 'полином 3ей степени'])\n",
    "plt.show()"
   ]
  },
  {
   "cell_type": "code",
   "execution_count": null,
   "metadata": {},
   "outputs": [],
   "source": []
  }
 ],
 "metadata": {
  "colab": {
   "include_colab_link": true,
   "name": "Untitled2.ipynb",
   "provenance": [],
   "version": "0.3.2"
  },
  "kernelspec": {
   "display_name": "Python 3",
   "language": "python",
   "name": "python3"
  },
  "language_info": {
   "codemirror_mode": {
    "name": "ipython",
    "version": 3
   },
   "file_extension": ".py",
   "mimetype": "text/x-python",
   "name": "python",
   "nbconvert_exporter": "python",
   "pygments_lexer": "ipython3",
   "version": "3.7.3"
  }
 },
 "nbformat": 4,
 "nbformat_minor": 1
}
